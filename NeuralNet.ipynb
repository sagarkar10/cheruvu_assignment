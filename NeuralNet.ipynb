{
 "cells": [
  {
   "cell_type": "code",
   "execution_count": 322,
   "metadata": {
    "collapsed": false
   },
   "outputs": [],
   "source": [
    "import numpy as np\n",
    "\n",
    "class NeuralNet(object):\n",
    "    def __init__(self,inp_L_size,hid1_L_size,hid2_L_size,out_L_size):\n",
    "        self.inp_L_size = inp_L_size\n",
    "        self.hid1_L_size = hid1_L_size\n",
    "        self.hid2_L_size = hid2_L_size\n",
    "        self.out_L_size = out_L_size\n",
    "        print('input:',self.inp_L_size)\n",
    "        print('hidden1:',self.hid1_L_size)\n",
    "        print('hidden2:',self.hid2_L_size)\n",
    "        print('output:',self.out_L_size)\n",
    "        self.alpha = 0.1\n",
    "        print('aplha:',self.alpha)\n",
    "        self.b1 = np.ones((1,self.hid1_L_size))\n",
    "        self.b2 = np.ones((1,self.hid2_L_size))\n",
    "        self.b3 = np.ones ((1,self.out_L_size))\n",
    "        self.W1 = np.random.randn(self.inp_L_size,self.hid1_L_size)\n",
    "        self.W2 = np.random.randn(self.hid1_L_size,self.hid2_L_size)\n",
    "        self.W3 = np.random.randn(self.hid2_L_size,self.out_L_size)\n",
    "        print('W1:\\n',self.W1)\n",
    "        print('W2:\\n',self.W2)\n",
    "        print('W3:\\n',self.W3)\n",
    "        \n",
    "    def sigmoid(self,X,deriv=False):\n",
    "        if deriv:\n",
    "            return np.multiply(self.sigmoid(X),(1-self.sigmoid(X)))\n",
    "        else:\n",
    "            return np.divide(1,(1+np.exp(-X)))\n",
    "\n",
    "    def forward_pass(self,X):\n",
    "        #add bias\n",
    "        print('X: ',X.shape,'W1: ',self.W1.shape,'W2: ',self.W2.shape,'W3: ',self.W3.shape)\n",
    "        self.z2 = np.dot(X, self.W1)+self.b1\n",
    "        self.a2 = self.sigmoid(self.z2)\n",
    "        self.z3 = np.dot(self.a2, self.W2)+self.b2\n",
    "        self.a3 = self.sigmoid(self.z3)\n",
    "        self.z4 = np.dot(self.a3,self.W3)+self.b3\n",
    "        self.a4 = self.sigmoid(self.z4)\n",
    "        yH = self.sigmoid(self.z4)\n",
    "        print('z2: ',self.z2.shape,'z3: ',self.z3.shape,'z4: ',self.z4.shape)\n",
    "        return yH\n",
    "    \n",
    "    def cost(self, X, y):\n",
    "        self.yH = self.forward_pass(X)\n",
    "        J = 0.5*sum(np.multiply(y-self.yH,y-self.yH))\n",
    "        return J\n",
    "    \n",
    "    def costP(self, X, y):\n",
    "        self.yH = self.forward_pass(X)\n",
    "        print('yH:\\n',self.yH)\n",
    "        d4 = np.multiply(-(y-self.yH),self.sigmoid(self.z4,True))\n",
    "        print('delta4:',d4.shape)\n",
    "        dJ_dW3 = np.dot(self.a3.T, d4)\n",
    "        print('dJ_dW3: ', dJ_dW3.shape)\n",
    "        d3 = np.multiply(np.dot(d4, self.W3.T),self.sigmoid(self.z3,True))\n",
    "        print('delta3:',d3.shape)\n",
    "        dJ_dW2 = np.dot(self.a2.T, d3)\n",
    "        print('dJ_dW2: ', dJ_dW2.shape)\n",
    "        d2 = np.multiply(np.dot(d3, self.W2.T),self.sigmoid(self.z2,True))\n",
    "        print('delta2:',d2.shape)\n",
    "        dJ_dW1 = np.dot(X.T, d2)\n",
    "        print('dJ_dW1: ', dJ_dW1.shape)\n",
    "        return dJ_dW1, dJ_dW2, dJ_dW3\n",
    "    \n",
    "    def backprop(self,X,y):\n",
    "        self.J = self.cost(X,y)\n",
    "        print(self.J)\n",
    "        dJ_dW1,dJ_dW2, dJ_dW3 = self.costP(X,y)\n",
    "        self.W1 -= self.alpha*dJ_dW1\n",
    "        self.W2 -= self.alpha*dJ_dW2\n",
    "        self.W3 -= self.alpha*dJ_dW3\n",
    "        return self.cost(X,y)\n",
    "    "
   ]
  },
  {
   "cell_type": "code",
   "execution_count": 323,
   "metadata": {
    "collapsed": false
   },
   "outputs": [
    {
     "name": "stdout",
     "output_type": "stream",
     "text": [
      "input: 2\n",
      "hidden1: 3\n",
      "hidden2: 3\n",
      "output: 1\n",
      "aplha: 0.1\n",
      "W1:\n",
      " [[-0.3872805  -1.7587675  -0.02769781]\n",
      " [-0.52584326 -1.07779601  0.20897849]]\n",
      "W2:\n",
      " [[-0.18837759  0.54651631  0.33735607]\n",
      " [-1.58287165  1.53820075 -0.59485991]\n",
      " [-1.20149971 -2.10413087  0.72665648]]\n",
      "W3:\n",
      " [[-0.79238631]\n",
      " [-1.12763036]\n",
      " [ 0.88026848]]\n"
     ]
    }
   ],
   "source": [
    "NN = NeuralNet(2,3,3,1)"
   ]
  },
  {
   "cell_type": "code",
   "execution_count": 324,
   "metadata": {
    "collapsed": false
   },
   "outputs": [
    {
     "name": "stdout",
     "output_type": "stream",
     "text": [
      "X:  (6, 2) W1:  (2, 3) W2:  (3, 3) W3:  (3, 1)\n",
      "z2:  (6, 3) z3:  (6, 3) z4:  (6, 1)\n"
     ]
    },
    {
     "data": {
      "text/plain": [
       "matrix([[ 0.71391745],\n",
       "        [ 0.73582953],\n",
       "        [ 0.75134306],\n",
       "        [ 0.74939502],\n",
       "        [ 0.75145092],\n",
       "        [ 0.73122019]])"
      ]
     },
     "execution_count": 324,
     "metadata": {},
     "output_type": "execute_result"
    }
   ],
   "source": [
    "X = np.asmatrix([[1,2],[5,6],[1,20],[15,16],[11,22],[15,6]])\n",
    "y = np.asmatrix([[1],[2],[11],[8],[6],[2]])\n",
    "NN.forward_pass(X)"
   ]
  },
  {
   "cell_type": "code",
   "execution_count": 325,
   "metadata": {
    "collapsed": false
   },
   "outputs": [
    {
     "name": "stdout",
     "output_type": "stream",
     "text": [
      "X:  (6, 2) W1:  (2, 3) W2:  (3, 3) W3:  (3, 1)\n",
      "z2:  (6, 3) z3:  (6, 3) z4:  (6, 1)\n"
     ]
    },
    {
     "data": {
      "text/plain": [
       "matrix([[ 94.22164076]])"
      ]
     },
     "execution_count": 325,
     "metadata": {},
     "output_type": "execute_result"
    }
   ],
   "source": [
    "NN.cost(X,y)"
   ]
  },
  {
   "cell_type": "code",
   "execution_count": 326,
   "metadata": {
    "collapsed": false
   },
   "outputs": [
    {
     "name": "stdout",
     "output_type": "stream",
     "text": [
      "X:  (6, 2) W1:  (2, 3) W2:  (3, 3) W3:  (3, 1)\n",
      "z2:  (6, 3) z3:  (6, 3) z4:  (6, 1)\n",
      "yH:\n",
      " [[ 0.71391745]\n",
      " [ 0.73582953]\n",
      " [ 0.75134306]\n",
      " [ 0.74939502]\n",
      " [ 0.75145092]\n",
      " [ 0.73122019]]\n",
      "delta4: (6, 1)\n",
      "dJ_dW3:  (3, 1)\n",
      "delta3: (6, 3)\n",
      "dJ_dW2:  (3, 3)\n",
      "delta2: (6, 3)\n",
      "dJ_dW1:  (2, 3)\n"
     ]
    },
    {
     "data": {
      "text/plain": [
       "(matrix([[  2.08912645e-03,   4.96633809e-04,  -8.20233728e-01],\n",
       "         [  3.32610205e-03,   9.93193523e-04,  -8.47220085e-01]]),\n",
       " matrix([[  5.35720000e-03,   7.20581527e-03,  -3.16436879e-03],\n",
       "         [  5.93485131e-04,   8.15851165e-04,  -3.49592870e-04],\n",
       "         [  9.22619726e-01,   1.01361841e+00,  -5.35479566e-01]]),\n",
       " matrix([[-2.19533287],\n",
       "         [-1.24920338],\n",
       "         [-4.07388042]]))"
      ]
     },
     "execution_count": 326,
     "metadata": {},
     "output_type": "execute_result"
    }
   ],
   "source": [
    "NN.costP(X,y)"
   ]
  },
  {
   "cell_type": "code",
   "execution_count": 333,
   "metadata": {
    "collapsed": false
   },
   "outputs": [
    {
     "name": "stdout",
     "output_type": "stream",
     "text": [
      "X:  (6, 2) W1:  (2, 3) W2:  (3, 3) W3:  (3, 1)\n",
      "z2:  (6, 3) z3:  (6, 3) z4:  (6, 1)\n",
      "[[ 89.3676276]]\n",
      "X:  (6, 2) W1:  (2, 3) W2:  (3, 3) W3:  (3, 1)\n",
      "z2:  (6, 3) z3:  (6, 3) z4:  (6, 1)\n",
      "yH:\n",
      " [[ 0.93746807]\n",
      " [ 0.94243158]\n",
      " [ 0.94349629]\n",
      " [ 0.94349264]\n",
      " [ 0.94350966]\n",
      " [ 0.94300592]]\n",
      "delta4: (6, 1)\n",
      "dJ_dW3:  (3, 1)\n",
      "delta3: (6, 3)\n",
      "dJ_dW2:  (3, 3)\n",
      "delta2: (6, 3)\n",
      "dJ_dW1:  (2, 3)\n",
      "X:  (6, 2) W1:  (2, 3) W2:  (3, 3) W3:  (3, 1)\n",
      "z2:  (6, 3) z3:  (6, 3) z4:  (6, 1)\n"
     ]
    },
    {
     "data": {
      "text/plain": [
       "matrix([[ 89.20050708]])"
      ]
     },
     "execution_count": 333,
     "metadata": {},
     "output_type": "execute_result"
    },
    {
     "data": {
      "text/plain": [
       "array([[-0.38754966, -1.75891028,  0.07917531],\n",
       "       [-0.52628676, -1.07808152,  0.31909406]])"
      ]
     },
     "execution_count": 333,
     "metadata": {},
     "output_type": "execute_result"
    }
   ],
   "source": [
    "NN.backprop(X,y)\n",
    "NN.W1"
   ]
  },
  {
   "cell_type": "code",
   "execution_count": null,
   "metadata": {
    "collapsed": true
   },
   "outputs": [],
   "source": []
  },
  {
   "cell_type": "code",
   "execution_count": null,
   "metadata": {
    "collapsed": true
   },
   "outputs": [],
   "source": []
  },
  {
   "cell_type": "code",
   "execution_count": null,
   "metadata": {
    "collapsed": true
   },
   "outputs": [],
   "source": []
  },
  {
   "cell_type": "code",
   "execution_count": null,
   "metadata": {
    "collapsed": true
   },
   "outputs": [],
   "source": []
  }
 ],
 "metadata": {
  "anaconda-cloud": {},
  "kernelspec": {
   "display_name": "Python [conda env:mlpb]",
   "language": "python",
   "name": "conda-env-mlpb-py"
  },
  "language_info": {
   "codemirror_mode": {
    "name": "ipython",
    "version": 3
   },
   "file_extension": ".py",
   "mimetype": "text/x-python",
   "name": "python",
   "nbconvert_exporter": "python",
   "pygments_lexer": "ipython3",
   "version": "3.5.2"
  }
 },
 "nbformat": 4,
 "nbformat_minor": 1
}
